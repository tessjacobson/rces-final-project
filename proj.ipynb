{
 "cells": [
  {
   "cell_type": "code",
   "execution_count": 2,
   "metadata": {},
   "outputs": [],
   "source": [
    "import xarray as xr\n",
    "import numpy as np\n",
    "from matplotlib import pyplot as plt\n",
    "import cartopy.crs as ccrs\n",
    "import cartopy\n",
    "%matplotlib inline\n",
    "\n",
    "def fix_calendar(ds, timevar='T'):\n",
    "    if ds[timevar].attrs['calendar'] == '360':\n",
    "        ds[timevar].attrs['calendar'] = '360_day'\n",
    "    return ds\n",
    "\n",
    "def fix_coords(ds):\n",
    "    ds = ds.assign_coords(X=(((ds.X + 180) % 360) - 180)).sortby(['X','Y']).rename({'X':'lon','Y':'lat'})\n",
    "    return ds\n",
    "\n",
    "period= slice('2017-12-16','2018-11-16')\n",
    "period1 = slice('2016-12-16','2017-11-16')"
   ]
  },
  {
   "cell_type": "code",
   "execution_count": null,
   "metadata": {},
   "outputs": [],
   "source": []
  }
 ],
 "metadata": {
  "kernelspec": {
   "display_name": "Python 3",
   "language": "python",
   "name": "python3"
  },
  "language_info": {
   "codemirror_mode": {
    "name": "ipython",
    "version": 3
   },
   "file_extension": ".py",
   "mimetype": "text/x-python",
   "name": "python",
   "nbconvert_exporter": "python",
   "pygments_lexer": "ipython3",
   "version": "3.7.8"
  }
 },
 "nbformat": 4,
 "nbformat_minor": 4
}
